{
 "cells": [
  {
   "cell_type": "code",
   "execution_count": 24,
   "metadata": {},
   "outputs": [],
   "source": [
    "import numpy as np\n",
    "import torch\n",
    "from skimage import io, transform\n",
    "import numpy as np\n",
    "import os\n",
    "from torch.utils.data import Dataset, DataLoader\n",
    "from torchvision import transforms, utils\n",
    "from sklearn.preprocessing import LabelEncoder\n",
    "import pandas as pd\n",
    "import pickle\n",
    "import matplotlib.pyplot as plt\n",
    "%matplotlib inline"
   ]
  },
  {
   "cell_type": "code",
   "execution_count": 33,
   "metadata": {},
   "outputs": [],
   "source": [
    "df = pd.read_csv('number_pic_char.csv', index_col='id')"
   ]
  },
  {
   "cell_type": "code",
   "execution_count": 34,
   "metadata": {},
   "outputs": [
    {
     "data": {
      "text/html": [
       "<div>\n",
       "<style scoped>\n",
       "    .dataframe tbody tr th:only-of-type {\n",
       "        vertical-align: middle;\n",
       "    }\n",
       "\n",
       "    .dataframe tbody tr th {\n",
       "        vertical-align: top;\n",
       "    }\n",
       "\n",
       "    .dataframe thead th {\n",
       "        text-align: right;\n",
       "    }\n",
       "</style>\n",
       "<table border=\"1\" class=\"dataframe\">\n",
       "  <thead>\n",
       "    <tr style=\"text-align: right;\">\n",
       "      <th></th>\n",
       "      <th>name</th>\n",
       "      <th>total</th>\n",
       "      <th>train</th>\n",
       "      <th>test</th>\n",
       "      <th>bounding_box</th>\n",
       "    </tr>\n",
       "    <tr>\n",
       "      <th>id</th>\n",
       "      <th></th>\n",
       "      <th></th>\n",
       "      <th></th>\n",
       "      <th></th>\n",
       "      <th></th>\n",
       "    </tr>\n",
       "  </thead>\n",
       "  <tbody>\n",
       "    <tr>\n",
       "      <th>0</th>\n",
       "      <td>Homer Simpson</td>\n",
       "      <td>2246</td>\n",
       "      <td>1909</td>\n",
       "      <td>337</td>\n",
       "      <td>612</td>\n",
       "    </tr>\n",
       "    <tr>\n",
       "      <th>1</th>\n",
       "      <td>Ned Flanders</td>\n",
       "      <td>1454</td>\n",
       "      <td>1236</td>\n",
       "      <td>218</td>\n",
       "      <td>595</td>\n",
       "    </tr>\n",
       "    <tr>\n",
       "      <th>2</th>\n",
       "      <td>Moe Szyslak</td>\n",
       "      <td>1452</td>\n",
       "      <td>1234</td>\n",
       "      <td>218</td>\n",
       "      <td>215</td>\n",
       "    </tr>\n",
       "    <tr>\n",
       "      <th>3</th>\n",
       "      <td>Lisa Simpson</td>\n",
       "      <td>1354</td>\n",
       "      <td>1151</td>\n",
       "      <td>203</td>\n",
       "      <td>562</td>\n",
       "    </tr>\n",
       "    <tr>\n",
       "      <th>4</th>\n",
       "      <td>Bart Simpson</td>\n",
       "      <td>1342</td>\n",
       "      <td>1141</td>\n",
       "      <td>201</td>\n",
       "      <td>554</td>\n",
       "    </tr>\n",
       "  </tbody>\n",
       "</table>\n",
       "</div>"
      ],
      "text/plain": [
       "             name  total  train  test  bounding_box\n",
       "id                                                 \n",
       "0   Homer Simpson   2246   1909   337           612\n",
       "1    Ned Flanders   1454   1236   218           595\n",
       "2     Moe Szyslak   1452   1234   218           215\n",
       "3    Lisa Simpson   1354   1151   203           562\n",
       "4    Bart Simpson   1342   1141   201           554"
      ]
     },
     "execution_count": 34,
     "metadata": {},
     "output_type": "execute_result"
    }
   ],
   "source": [
    "df.head()"
   ]
  },
  {
   "cell_type": "code",
   "execution_count": 37,
   "metadata": {
    "scrolled": true
   },
   "outputs": [
    {
     "data": {
      "text/plain": [
       "'total: 20933, train: 17793, test: 3140'"
      ]
     },
     "execution_count": 37,
     "metadata": {},
     "output_type": "execute_result"
    }
   ],
   "source": [
    "'total: {}, train: {}, test: {}'.format(df['total'].sum(), df['train'].sum(), df['test'].sum())"
   ]
  },
  {
   "cell_type": "code",
   "execution_count": 38,
   "metadata": {},
   "outputs": [],
   "source": [
    "class SimpsonsDataset(Dataset):\n",
    "    def __init__(self, data_path, test=False, transform=None):\n",
    "        self.data_path = data_path\n",
    "        self.transform = transform\n",
    "        self.test = test\n",
    "        \n",
    "        if not test:\n",
    "            self.labels = os.listdir(self.data_path)\n",
    "            self.label_encoder = LabelEncoder()\n",
    "            self.label_encoder.fit(self.labels)\n",
    "            \n",
    "            with open('label_encoder.pkl', 'wb') as encoder_file:\n",
    "                pickle.dump(self.label_encoder, encoder_file)\n",
    "            \n",
    "            \n",
    "            self.items = []\n",
    "            \n",
    "            for label in self.labels:\n",
    "                for item in os.listdir(os.path.join(self.data_path, label)):\n",
    "                    if os.path.isfile(os.path.join(self.data_path, label, item)):\n",
    "                        self.items.append(os.path.join(self.data_path, label, item))\n",
    "            \n",
    "   \n",
    "    def __len__(self):\n",
    "        return len(self.items)\n",
    "    \n",
    "    def __call__(self, idx):\n",
    "        if torch.is_tensor(idx):\n",
    "            idx = idx.to_list()\n",
    "            \n",
    "        if self.test:\n",
    "            image = io.imread(self.items[idx])\n",
    "            sample = { 'image': image }\n",
    "            if self.transform != None:\n",
    "                sample = self.transform(sample)\n",
    "            return sample\n",
    "        \n",
    "        label = self.items[idx]\n",
    "        return label\n",
    "          "
   ]
  },
  {
   "cell_type": "code",
   "execution_count": 39,
   "metadata": {},
   "outputs": [],
   "source": [
    "dt = SimpsonsDataset('./simpsons_dataset')"
   ]
  },
  {
   "cell_type": "code",
   "execution_count": 40,
   "metadata": {},
   "outputs": [
    {
     "data": {
      "text/plain": [
       "20933"
      ]
     },
     "execution_count": 40,
     "metadata": {},
     "output_type": "execute_result"
    }
   ],
   "source": [
    "len(dt.items)"
   ]
  },
  {
   "cell_type": "code",
   "execution_count": null,
   "metadata": {},
   "outputs": [],
   "source": []
  },
  {
   "cell_type": "code",
   "execution_count": null,
   "metadata": {},
   "outputs": [],
   "source": []
  },
  {
   "cell_type": "code",
   "execution_count": null,
   "metadata": {},
   "outputs": [],
   "source": [
    "dt(0)"
   ]
  },
  {
   "cell_type": "code",
   "execution_count": null,
   "metadata": {},
   "outputs": [],
   "source": [
    "os.path.join(*['aa', 'bb'])"
   ]
  },
  {
   "cell_type": "code",
   "execution_count": null,
   "metadata": {},
   "outputs": [],
   "source": []
  }
 ],
 "metadata": {
  "kernelspec": {
   "display_name": "Python 3",
   "language": "python",
   "name": "python3"
  },
  "language_info": {
   "codemirror_mode": {
    "name": "ipython",
    "version": 3
   },
   "file_extension": ".py",
   "mimetype": "text/x-python",
   "name": "python",
   "nbconvert_exporter": "python",
   "pygments_lexer": "ipython3",
   "version": "3.8.2"
  }
 },
 "nbformat": 4,
 "nbformat_minor": 4
}
